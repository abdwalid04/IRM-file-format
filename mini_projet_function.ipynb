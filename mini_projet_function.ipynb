{
 "cells": [
  {
   "cell_type": "markdown",
   "id": "a2c6f60e",
   "metadata": {},
   "source": [
    "# Library Importation"
   ]
  },
  {
   "cell_type": "code",
   "execution_count": 1,
   "id": "0f0815a5",
   "metadata": {},
   "outputs": [],
   "source": [
    "import numpy as np\n",
    "from matplotlib.pylab import plt"
   ]
  },
  {
   "cell_type": "markdown",
   "id": "3a08578f",
   "metadata": {},
   "source": [
    "<br>"
   ]
  },
  {
   "cell_type": "markdown",
   "id": "cdc4f4e3",
   "metadata": {},
   "source": [
    "# Functions"
   ]
  },
  {
   "cell_type": "code",
   "execution_count": 2,
   "id": "3d1162e7",
   "metadata": {},
   "outputs": [],
   "source": [
    "def codage_LZW_RGB(img):\n",
    "    sh = img.shape\n",
    "    Code = []\n",
    "    for k in range(3):\n",
    "        I = img[:,:,k]\n",
    "        w = \"\"\n",
    "        code = []\n",
    "        dict_size = 256\n",
    "        D = {chr(i): i for i in range(dict_size)}\n",
    "        im = I.flatten()\n",
    "        T = ''\n",
    "        for i in im:\n",
    "            T += chr(int(i))\n",
    "        for c in T:\n",
    "            wc = w + c\n",
    "            if wc in D:\n",
    "                w = wc\n",
    "            else:\n",
    "                code.append(D[w])\n",
    "                D[wc] = dict_size\n",
    "                dict_size += 1\n",
    "                w = c\n",
    "        if w:\n",
    "            code.append(D[w])\n",
    "        Code.append(code)\n",
    "    return Code,sh"
   ]
  },
  {
   "cell_type": "code",
   "execution_count": 3,
   "id": "35241bbf",
   "metadata": {},
   "outputs": [],
   "source": [
    "def decodage_LZW_RGB(Code,sh):\n",
    "    IMG = np.zeros(sh)\n",
    "    j=0\n",
    "    for M in Code:\n",
    "        dict_size = 256\n",
    "        D = {i: chr(i) for i in range(dict_size)}\n",
    "        w = chr(M[0])\n",
    "        M = M[1:]\n",
    "        code = w\n",
    "        e = w\n",
    "        for i in M:\n",
    "            if i in D.keys():\n",
    "                e = D[i]\n",
    "            elif i == dict_size:\n",
    "                e = w + w[0]\n",
    "            code += e\n",
    "            D[dict_size] = w + e[0]\n",
    "            dict_size += 1\n",
    "            w = e\n",
    "        M = []\n",
    "        for i in code:\n",
    "            M.append(ord(i))\n",
    "        IMG[...,j] = np.array(M).reshape((sh[0],sh[1]))\n",
    "        j += 1\n",
    "    return np.array(IMG).astype(int)"
   ]
  },
  {
   "cell_type": "code",
   "execution_count": 4,
   "id": "0ec6c017",
   "metadata": {},
   "outputs": [],
   "source": [
    "def make_ColorTab(img):\n",
    "    return np.unique(img.reshape((img.shape[0]*img.shape[1],img.shape[2])), axis=0)"
   ]
  },
  {
   "cell_type": "code",
   "execution_count": null,
   "id": "525122b9",
   "metadata": {},
   "outputs": [],
   "source": []
  }
 ],
 "metadata": {
  "kernelspec": {
   "display_name": "Python 3",
   "language": "python",
   "name": "python3"
  },
  "language_info": {
   "codemirror_mode": {
    "name": "ipython",
    "version": 3
   },
   "file_extension": ".py",
   "mimetype": "text/x-python",
   "name": "python",
   "nbconvert_exporter": "python",
   "pygments_lexer": "ipython3",
   "version": "3.8.8"
  }
 },
 "nbformat": 4,
 "nbformat_minor": 5
}
