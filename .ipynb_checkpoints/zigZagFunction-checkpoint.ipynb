{
 "cells": [
  {
   "cell_type": "code",
   "execution_count": 1,
   "id": "196a34d7",
   "metadata": {},
   "outputs": [],
   "source": [
    "import numpy as np"
   ]
  },
  {
   "cell_type": "code",
   "execution_count": 2,
   "id": "d018b72a",
   "metadata": {},
   "outputs": [
    {
     "name": "stdout",
     "output_type": "stream",
     "text": [
      "[[0], [1, 5], [10, 6, 2], [3, 7, 11, 15], [20, 16, 12, 8, 4], [9, 13, 17, 21], [22, 18, 14], [19, 23], [24]]\n"
     ]
    }
   ],
   "source": [
    "# Program to print matrix in Zig-zag pattern\n",
    "# 1 2 4 7 5 3 6 8 9\n",
    "matrix =[[ 0,  1,  2,  3,4],\n",
    "        [ 5,  6,  7,8,9],\n",
    "        [ 10, 11,12, 13,14],\n",
    "        [  15,16,17,18,19],\n",
    "         [  20,21,22,23,24]       \n",
    "        ]\n",
    "rows=5\n",
    "columns=5\n",
    "\n",
    "solution=[[] for i in range(rows+columns-1)]\n",
    "\n",
    "for i in range(rows):\n",
    "    for j in range(columns):\n",
    "        sum=i+j\n",
    "        if(sum%2 ==0):\n",
    "            #add at beginning\n",
    "            solution[sum].insert(0,matrix[i][j])\n",
    "           \n",
    "        else:\n",
    "\n",
    "#add at end of the list\n",
    "            solution[sum].append(matrix[i][j])\n",
    "# print the solution as it as\n",
    "# for i in solution:\n",
    "#     for j in i:\n",
    "#         print(j,end=\" \")\n",
    "print(solution)"
   ]
  },
  {
   "cell_type": "code",
   "execution_count": 3,
   "id": "e27cfc3a",
   "metadata": {},
   "outputs": [
    {
     "name": "stdout",
     "output_type": "stream",
     "text": [
      "[[ 0.  1.  2.  3.  4.]\n",
      " [ 5.  6.  7.  8.  9.]\n",
      " [10. 11. 12. 13. 14.]\n",
      " [15. 16. 17. 18. 19.]\n",
      " [20. 21. 22. 23. 24.]]\n"
     ]
    }
   ],
   "source": [
    "a=[[0], [1, 5], [10, 6, 2], [3, 7, 11, 15], [20, 16, 12, 8, 4], [9, 13, 17, 21], [22, 18, 14], [19, 23], [24]]\n",
    "rows=5\n",
    "columns=5\n",
    "matrix=np.zeros((rows,columns))\n",
    "s=0\n",
    "for i in a:\n",
    "    s+=1\n",
    "    z=0\n",
    "    for j in range(rows):\n",
    "        for k in range(columns):\n",
    "            if j+k==s-1 and (j+k==0 or (j+k)%2!=0):  \n",
    "                matrix[j][k]=i[z]\n",
    "                z+=1\n",
    "            elif j+k==s-1 and (j+k)%2==0:\n",
    "                matrix[k][j]=i[z]\n",
    "                z+=1\n",
    "\n",
    "print(matrix)"
   ]
  },
  {
   "cell_type": "code",
   "execution_count": 4,
   "id": "96b05fb0",
   "metadata": {},
   "outputs": [],
   "source": [
    "matrix =np.array([[ 0,  1,  2,  3],\n",
    "         [ 5,  6,  7,8],\n",
    "         [ 10, 11,12, 13],\n",
    "         [  15,16,17,18],\n",
    "         [  20,21,22,23],\n",
    "         [  20,21,22,23],\n",
    "         [  20,21,22,23],\n",
    "         ])"
   ]
  },
  {
   "cell_type": "code",
   "execution_count": 5,
   "id": "3debe57d",
   "metadata": {
    "scrolled": true
   },
   "outputs": [
    {
     "data": {
      "text/plain": [
       "array([[ 0,  1,  2,  3],\n",
       "       [ 5,  6,  7,  8],\n",
       "       [10, 11, 12, 13],\n",
       "       [15, 16, 17, 18],\n",
       "       [20, 21, 22, 23],\n",
       "       [20, 21, 22, 23],\n",
       "       [20, 21, 22, 23]])"
      ]
     },
     "execution_count": 5,
     "metadata": {},
     "output_type": "execute_result"
    }
   ],
   "source": [
    "matrix"
   ]
  },
  {
   "cell_type": "code",
   "execution_count": 6,
   "id": "2d8f6f59",
   "metadata": {},
   "outputs": [],
   "source": [
    "def zigZag(mat):\n",
    "    J=0\n",
    "    N = []\n",
    "    sh = mat.shape[0]+mat.shape[1]-1\n",
    "    for i in range(sh,-sh-1,-1):\n",
    "        D = np.diagonal(np.fliplr(mat),i)\n",
    "        if J%2:\n",
    "            N.extend(np.flip(D))\n",
    "        else:\n",
    "            N.extend(D)\n",
    "        J+=1\n",
    "    return N"
   ]
  },
  {
   "cell_type": "code",
   "execution_count": 7,
   "id": "2adb7e2d",
   "metadata": {},
   "outputs": [
    {
     "data": {
      "text/plain": [
       "array([[ 0,  1,  2,  3],\n",
       "       [ 5,  6,  7,  8],\n",
       "       [10, 11, 12, 13],\n",
       "       [15, 16, 17, 18],\n",
       "       [20, 21, 22, 23],\n",
       "       [20, 21, 22, 23],\n",
       "       [20, 21, 22, 23]])"
      ]
     },
     "execution_count": 7,
     "metadata": {},
     "output_type": "execute_result"
    }
   ],
   "source": [
    "matrix"
   ]
  },
  {
   "cell_type": "code",
   "execution_count": 8,
   "id": "90fbbdf1",
   "metadata": {},
   "outputs": [],
   "source": [
    "Z = zigZag(matrix)"
   ]
  },
  {
   "cell_type": "code",
   "execution_count": 9,
   "id": "cc1419d8",
   "metadata": {},
   "outputs": [
    {
     "name": "stdout",
     "output_type": "stream",
     "text": [
      "[0, 1, 5, 10, 6, 2, 3, 7, 11, 15, 20, 16, 12, 8, 13, 17, 21, 20, 20, 21, 22, 18, 23, 22, 21, 22, 23, 23]\n"
     ]
    }
   ],
   "source": [
    "print(Z)"
   ]
  },
  {
   "cell_type": "code",
   "execution_count": 11,
   "id": "66009c3d",
   "metadata": {},
   "outputs": [],
   "source": [
    "def segm_zigZag_L(matrix):\n",
    "    j = 0\n",
    "    NN = []\n",
    "    g = matrix.shape[0]-matrix.shape[1]+1\n",
    "\n",
    "    for i in np.concatenate((np.arange(1,matrix.shape[1]),np.repeat([matrix.shape[1]],g),np.arange(matrix.shape[1]-1,0,-1))):\n",
    "        NN.append(Z[j:j+i])\n",
    "        j += i\n",
    "    return NN"
   ]
  },
  {
   "cell_type": "code",
   "execution_count": 12,
   "id": "f7263af7",
   "metadata": {},
   "outputs": [
    {
     "data": {
      "text/plain": [
       "[[0],\n",
       " [1, 5],\n",
       " [10, 6, 2],\n",
       " [3, 7, 11, 15],\n",
       " [20, 16, 12, 8],\n",
       " [13, 17, 21, 20],\n",
       " [20, 21, 22, 18],\n",
       " [23, 22, 21],\n",
       " [22, 23],\n",
       " [23]]"
      ]
     },
     "execution_count": 12,
     "metadata": {},
     "output_type": "execute_result"
    }
   ],
   "source": [
    "segm_zigZag_L(matrix)"
   ]
  }
 ],
 "metadata": {
  "kernelspec": {
   "display_name": "Python 3",
   "language": "python",
   "name": "python3"
  },
  "language_info": {
   "codemirror_mode": {
    "name": "ipython",
    "version": 3
   },
   "file_extension": ".py",
   "mimetype": "text/x-python",
   "name": "python",
   "nbconvert_exporter": "python",
   "pygments_lexer": "ipython3",
   "version": "3.8.8"
  }
 },
 "nbformat": 4,
 "nbformat_minor": 5
}
