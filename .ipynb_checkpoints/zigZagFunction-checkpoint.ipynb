{
 "cells": [
  {
   "cell_type": "code",
   "execution_count": 3,
   "id": "196a34d7",
   "metadata": {},
   "outputs": [],
   "source": [
    "import numpy as np"
   ]
  },
  {
   "cell_type": "code",
   "execution_count": 4,
   "id": "d018b72a",
   "metadata": {},
   "outputs": [
    {
     "name": "stdout",
     "output_type": "stream",
     "text": [
      "[[0], [1, 5], [10, 6, 2], [3, 7, 11, 15], [20, 16, 12, 8, 4], [9, 13, 17, 21], [22, 18, 14], [19, 23], [24]]\n"
     ]
    }
   ],
   "source": [
    "# Program to print matrix in Zig-zag pattern\n",
    "# 1 2 4 7 5 3 6 8 9\n",
    "matrix =[[ 0,  1,  2,  3,4],\n",
    "        [ 5,  6,  7,8,9],\n",
    "        [ 10, 11,12, 13,14],\n",
    "        [  15,16,17,18,19],\n",
    "         [  20,21,22,23,24]       \n",
    "        ]\n",
    "rows=5\n",
    "columns=5\n",
    "\n",
    "solution=[[] for i in range(rows+columns-1)]\n",
    "\n",
    "for i in range(rows):\n",
    "    for j in range(columns):\n",
    "        sum=i+j\n",
    "        if(sum%2 ==0):\n",
    "            #add at beginning\n",
    "            solution[sum].insert(0,matrix[i][j])\n",
    "           \n",
    "        else:\n",
    "\n",
    "#add at end of the list\n",
    "            solution[sum].append(matrix[i][j])\n",
    "# print the solution as it as\n",
    "# for i in solution:\n",
    "#     for j in i:\n",
    "#         print(j,end=\" \")\n",
    "print(solution)"
   ]
  },
  {
   "cell_type": "code",
   "execution_count": 5,
   "id": "e27cfc3a",
   "metadata": {},
   "outputs": [
    {
     "name": "stdout",
     "output_type": "stream",
     "text": [
      "[[ 0.  1.  2.  3.  4.]\n",
      " [ 5.  6.  7.  8.  9.]\n",
      " [10. 11. 12. 13. 14.]\n",
      " [15. 16. 17. 18. 19.]\n",
      " [20. 21. 22. 23. 24.]]\n"
     ]
    }
   ],
   "source": [
    "a=[[0], [1, 5], [10, 6, 2], [3, 7, 11, 15], [20, 16, 12, 8, 4], [9, 13, 17, 21], [22, 18, 14], [19, 23], [24]]\n",
    "rows=5\n",
    "columns=5\n",
    "matrix=np.zeros((rows,columns))\n",
    "s=0\n",
    "for i in a:\n",
    "    s+=1\n",
    "    z=0\n",
    "    for j in range(rows):\n",
    "        for k in range(columns):\n",
    "            if j+k==s-1 and (j+k==0 or (j+k)%2!=0):  \n",
    "                matrix[j][k]=i[z]\n",
    "                z+=1\n",
    "            elif j+k==s-1 and (j+k)%2==0:\n",
    "                matrix[k][j]=i[z]\n",
    "                z+=1\n",
    "\n",
    "print(matrix)"
   ]
  },
  {
   "cell_type": "code",
   "execution_count": null,
   "id": "96b05fb0",
   "metadata": {},
   "outputs": [],
   "source": []
  }
 ],
 "metadata": {
  "kernelspec": {
   "display_name": "Python 3",
   "language": "python",
   "name": "python3"
  },
  "language_info": {
   "codemirror_mode": {
    "name": "ipython",
    "version": 3
   },
   "file_extension": ".py",
   "mimetype": "text/x-python",
   "name": "python",
   "nbconvert_exporter": "python",
   "pygments_lexer": "ipython3",
   "version": "3.8.8"
  }
 },
 "nbformat": 4,
 "nbformat_minor": 5
}
