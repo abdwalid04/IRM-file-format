{
 "cells": [
  {
   "cell_type": "code",
   "execution_count": 1,
   "id": "7dea9259",
   "metadata": {},
   "outputs": [],
   "source": [
    "from matplotlib.pylab import plt\n",
    "import numpy as np\n",
    "import pickle\n",
    "from PIL import Image"
   ]
  },
  {
   "cell_type": "code",
   "execution_count": 2,
   "id": "b4c56c87",
   "metadata": {},
   "outputs": [],
   "source": [
    "def ReadImage(path):\n",
    "    img = Image.open(path)\n",
    "    c_img = img.convert(\"P\")\n",
    "    palette = c_img.getpalette()\n",
    "    a_img = np.array(c_img)\n",
    "    return a_img,palette\n",
    "def img_to_txt(I):\n",
    "    sh = I.shape\n",
    "    im = I.flatten()\n",
    "    T = ''\n",
    "    for i in im:\n",
    "        T += chr(int(i))\n",
    "    return T,sh\n",
    "\n",
    "def txt_to_img(T,sh):\n",
    "    M = []\n",
    "    for i in T:\n",
    "        M.append(ord(i))\n",
    "    return np.array(M).reshape(sh)\n",
    "def codage_LZW(M):\n",
    "    w = \"\"\n",
    "    code = []\n",
    "    dict_size = 256\n",
    "    D = {chr(i): i for i in range(dict_size)}\n",
    "    for c in M:\n",
    "        wc = w + c\n",
    "        if wc in D:\n",
    "            w = wc\n",
    "        else:\n",
    "            code.append(D[w])\n",
    "            D[wc] = dict_size\n",
    "            dict_size += 1\n",
    "            w = c\n",
    "    if w:\n",
    "        code.append(D[w])\n",
    "    return code\n",
    "def decodage_LZW(M):\n",
    "    dict_size = 256\n",
    "    D = {i: chr(i) for i in range(dict_size)}\n",
    "    w = chr(M[0])\n",
    "    M = M[1:]\n",
    "    code = w\n",
    "    e = w\n",
    "    for i in M:\n",
    "        if i in D.keys():\n",
    "            e = D[i]\n",
    "        elif i == dict_size:\n",
    "            e = w + w[0]\n",
    "        code += e\n",
    "        D[dict_size] = w + e[0]\n",
    "        dict_size += 1\n",
    "        w = e\n",
    "    return code\n",
    "def LZW_img(I,op):\n",
    "    if op == \"decodage\":\n",
    "        i_img = txt_to_img(decodage_LZW(I[770:]),I[:2])\n",
    "        c_img = Image.fromarray(i_img.astype(np.uint8),\"P\")\n",
    "        c_img.putpalette(I[2:770].tolist())\n",
    "        return c_img\n",
    "    elif op == \"codage\":\n",
    "        C = img_to_txt(I[0])\n",
    "        CC = []\n",
    "        CC.extend(C[1])\n",
    "        CC.extend(I[1])\n",
    "        CC.extend(codage_LZW(C[0]))\n",
    "        return np.array(CC)\n",
    "    else :\n",
    "        return \"choix n'exeite pas\""
   ]
  },
  {
   "cell_type": "code",
   "execution_count": 3,
   "id": "78e1b6d9",
   "metadata": {},
   "outputs": [],
   "source": [
    "img = ReadImage(\"sample_1920×1280.bmp\")\n",
    "L = LZW_img(img,\"codage\")"
   ]
  },
  {
   "cell_type": "code",
   "execution_count": 4,
   "id": "709798cc",
   "metadata": {
    "scrolled": true
   },
   "outputs": [
    {
     "data": {
      "text/plain": [
       "array([  1280,   1920,      0, ..., 449621, 298540, 309411])"
      ]
     },
     "execution_count": 4,
     "metadata": {},
     "output_type": "execute_result"
    }
   ],
   "source": [
    "L"
   ]
  },
  {
   "cell_type": "code",
   "execution_count": 5,
   "id": "90af9b56",
   "metadata": {},
   "outputs": [],
   "source": [
    "with open(\"hh.irm\",'ab') as op:\n",
    "    op.write(L.tobytes())"
   ]
  },
  {
   "cell_type": "code",
   "execution_count": 6,
   "id": "b8a444c1",
   "metadata": {},
   "outputs": [],
   "source": [
    "with open(\"hh.irm\",'rb') as op:\n",
    "    res = np.frombuffer(op.read(),dtype=int)"
   ]
  },
  {
   "cell_type": "code",
   "execution_count": 7,
   "id": "fce562e5",
   "metadata": {},
   "outputs": [
    {
     "data": {
      "text/plain": [
       "array([  1280,   1920,      0, ..., 449621, 298540, 309411])"
      ]
     },
     "execution_count": 7,
     "metadata": {},
     "output_type": "execute_result"
    }
   ],
   "source": [
    "res"
   ]
  },
  {
   "cell_type": "code",
   "execution_count": 8,
   "id": "09845b9e",
   "metadata": {},
   "outputs": [],
   "source": [
    "d_img_test = LZW_img(res,\"decodage\")\n",
    "d_img_test.show()"
   ]
  }
 ],
 "metadata": {
  "kernelspec": {
   "display_name": "Python 3",
   "language": "python",
   "name": "python3"
  },
  "language_info": {
   "codemirror_mode": {
    "name": "ipython",
    "version": 3
   },
   "file_extension": ".py",
   "mimetype": "text/x-python",
   "name": "python",
   "nbconvert_exporter": "python",
   "pygments_lexer": "ipython3",
   "version": "3.8.8"
  }
 },
 "nbformat": 4,
 "nbformat_minor": 5
}
