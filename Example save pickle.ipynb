{
 "cells": [
  {
   "cell_type": "code",
   "execution_count": 4,
   "id": "328fcb86",
   "metadata": {},
   "outputs": [],
   "source": [
    "import pickle"
   ]
  },
  {
   "cell_type": "code",
   "execution_count": 6,
   "id": "2fbe12a6",
   "metadata": {},
   "outputs": [],
   "source": [
    "Omkar = {'key' : 'Omkar', 'name' : 'Omkar Pathak',\n",
    "    'age' : 21, 'pay' : 40000}\n",
    "Jagdish = {'key' : 'Jagdish', 'name' : 'Jagdish Pathak',\n",
    "    'age' : 50, 'pay' : 50000}\n",
    "\n",
    "db = {}\n",
    "db['Omkar'] = Omkar\n",
    "db['Jagdish'] = Jagdish\n",
    "\n",
    "dbfile = open('examplePickle.txt', 'ab')\n",
    "pickle.dump(db, dbfile)"
   ]
  },
  {
   "cell_type": "code",
   "execution_count": 8,
   "id": "60f512e1",
   "metadata": {},
   "outputs": [
    {
     "name": "stdout",
     "output_type": "stream",
     "text": [
      "Omkar => {'key': 'Omkar', 'name': 'Omkar Pathak', 'age': 21, 'pay': 40000}\n",
      "Jagdish => {'key': 'Jagdish', 'name': 'Jagdish Pathak', 'age': 50, 'pay': 50000}\n"
     ]
    }
   ],
   "source": [
    "dbfile = open('examplePickle.txt', 'rb')     \n",
    "db = pickle.load(dbfile)\n",
    "for keys in db:\n",
    "    print(keys, '=>', db[keys])\n",
    "dbfile.close()"
   ]
  },
  {
   "cell_type": "code",
   "execution_count": null,
   "id": "28380fc0",
   "metadata": {},
   "outputs": [],
   "source": []
  }
 ],
 "metadata": {
  "kernelspec": {
   "display_name": "Python 3",
   "language": "python",
   "name": "python3"
  },
  "language_info": {
   "codemirror_mode": {
    "name": "ipython",
    "version": 3
   },
   "file_extension": ".py",
   "mimetype": "text/x-python",
   "name": "python",
   "nbconvert_exporter": "python",
   "pygments_lexer": "ipython3",
   "version": "3.8.8"
  }
 },
 "nbformat": 4,
 "nbformat_minor": 5
}
